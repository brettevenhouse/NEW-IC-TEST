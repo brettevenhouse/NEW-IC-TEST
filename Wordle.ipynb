{
  "nbformat": 4,
  "nbformat_minor": 0,
  "metadata": {
    "colab": {
      "name": "Wordle.ipynb",
      "provenance": [],
      "collapsed_sections": [],
      "include_colab_link": true
    },
    "kernelspec": {
      "name": "python3",
      "display_name": "Python 3"
    },
    "language_info": {
      "name": "python"
    }
  },
  "cells": [
    {
      "cell_type": "markdown",
      "metadata": {
        "id": "view-in-github",
        "colab_type": "text"
      },
      "source": [
        "<a href=\"https://colab.research.google.com/github/brettevenhouse/NEW-IC-TEST/blob/main/Wordle.ipynb\" target=\"_parent\"><img src=\"https://colab.research.google.com/assets/colab-badge.svg\" alt=\"Open In Colab\"/></a>"
      ]
    },
    {
      "cell_type": "markdown",
      "source": [
        "#IDENTIFY\n",
        "\n",
        "**Background:** Wordle is a popular simple word game that was created by was recently purchased by NY Times for more than a million US dollars.\n",
        "Objectives:\n",
        "1. What is the list of five letter words that should used as the starting guess?\n",
        "1. What are the list of two five-letter words that should be used as the starting two guesses?"
      ],
      "metadata": {
        "id": "qP9yqLkakIp8"
      }
    },
    {
      "cell_type": "markdown",
      "source": [
        "#COLLECT\n",
        "\n",
        "**Objectives:**\n",
        "\n",
        "  1. Import modules / packages \n",
        "  1. Import data (official answers and guesses from the Wordle) "
      ],
      "metadata": {
        "id": "gO2MHEZFkOG9"
      }
    },
    {
      "cell_type": "markdown",
      "source": [
        "## Import Modules"
      ],
      "metadata": {
        "id": "3Sn1R5zBHYFZ"
      }
    },
    {
      "cell_type": "code",
      "source": [
        "!pip install pandas_bokeh\n",
        "import os\n",
        "import pandas as pd\n",
        "import pandas_bokeh\n",
        "import re\n",
        "pandas_bokeh.output_notebook()\n",
        "pd.set_option('plotting.backend', 'pandas_bokeh')\n",
        "\n",
        "# notes: see creatingwordlist.txt on instructions on how to create wordle lists csvs\n",
        "\n",
        "def printvar(variable):\n",
        "  print('==========PRINTVAR============')\n",
        "  print('Type: ' + str(type(variable)))\n",
        "  #print('Name: ' + str(variable.name))\n",
        "  print('Length: ' + str(len(variable)))\n",
        "  print('Index: ' + str(variable.index))\n",
        "  print('Contents: \\n' + str(variable))\n",
        "  print('==========PRINTVAR============')"
      ],
      "metadata": {
        "colab": {
          "base_uri": "https://localhost:8080/"
        },
        "id": "f_8xr7C8d3tf",
        "outputId": "e1fae8f3-fd75-40db-f254-c1dcfc4dac03"
      },
      "execution_count": null,
      "outputs": [
        {
          "output_type": "stream",
          "name": "stdout",
          "text": [
            "Collecting pandas_bokeh\n",
            "  Downloading pandas_bokeh-0.5.5-py2.py3-none-any.whl (29 kB)\n",
            "Requirement already satisfied: bokeh>=2.0 in /usr/local/lib/python3.7/dist-packages (from pandas_bokeh) (2.3.3)\n",
            "Requirement already satisfied: pandas>=0.22.0 in /usr/local/lib/python3.7/dist-packages (from pandas_bokeh) (1.3.5)\n",
            "Requirement already satisfied: numpy>=1.11.3 in /usr/local/lib/python3.7/dist-packages (from bokeh>=2.0->pandas_bokeh) (1.21.5)\n",
            "Requirement already satisfied: Jinja2>=2.9 in /usr/local/lib/python3.7/dist-packages (from bokeh>=2.0->pandas_bokeh) (2.11.3)\n",
            "Requirement already satisfied: python-dateutil>=2.1 in /usr/local/lib/python3.7/dist-packages (from bokeh>=2.0->pandas_bokeh) (2.8.2)\n",
            "Requirement already satisfied: PyYAML>=3.10 in /usr/local/lib/python3.7/dist-packages (from bokeh>=2.0->pandas_bokeh) (3.13)\n",
            "Requirement already satisfied: tornado>=5.1 in /usr/local/lib/python3.7/dist-packages (from bokeh>=2.0->pandas_bokeh) (5.1.1)\n",
            "Requirement already satisfied: pillow>=7.1.0 in /usr/local/lib/python3.7/dist-packages (from bokeh>=2.0->pandas_bokeh) (7.1.2)\n",
            "Requirement already satisfied: typing-extensions>=3.7.4 in /usr/local/lib/python3.7/dist-packages (from bokeh>=2.0->pandas_bokeh) (3.10.0.2)\n",
            "Requirement already satisfied: packaging>=16.8 in /usr/local/lib/python3.7/dist-packages (from bokeh>=2.0->pandas_bokeh) (21.3)\n",
            "Requirement already satisfied: MarkupSafe>=0.23 in /usr/local/lib/python3.7/dist-packages (from Jinja2>=2.9->bokeh>=2.0->pandas_bokeh) (2.0.1)\n",
            "Requirement already satisfied: pyparsing!=3.0.5,>=2.0.2 in /usr/local/lib/python3.7/dist-packages (from packaging>=16.8->bokeh>=2.0->pandas_bokeh) (3.0.7)\n",
            "Requirement already satisfied: pytz>=2017.3 in /usr/local/lib/python3.7/dist-packages (from pandas>=0.22.0->pandas_bokeh) (2018.9)\n",
            "Requirement already satisfied: six>=1.5 in /usr/local/lib/python3.7/dist-packages (from python-dateutil>=2.1->bokeh>=2.0->pandas_bokeh) (1.15.0)\n",
            "Installing collected packages: pandas-bokeh\n",
            "Successfully installed pandas-bokeh-0.5.5\n"
          ]
        }
      ]
    },
    {
      "cell_type": "markdown",
      "source": [
        "##Load Data"
      ],
      "metadata": {
        "id": "cusgUMnLHd4Q"
      }
    },
    {
      "cell_type": "code",
      "execution_count": null,
      "metadata": {
        "colab": {
          "base_uri": "https://localhost:8080/"
        },
        "id": "Yywa-mWiO49C",
        "outputId": "fa01f24e-dda3-4bdf-fe3c-767d484ed900"
      },
      "outputs": [
        {
          "output_type": "stream",
          "name": "stdout",
          "text": [
            "File ‘englishwordlist.txt’ already there; not retrieving.\n",
            "\n",
            "File ‘wordle_answers.csv’ already there; not retrieving.\n",
            "\n",
            "File ‘wordle_guesses.csv’ already there; not retrieving.\n",
            "\n"
          ]
        }
      ],
      "source": [
        "!wget -nc 'https://raw.githubusercontent.com/uscprofessor/itp487_enterprise_data_analytics/main/data/englishwordlist.txt'\n",
        "!wget -nc 'https://github.com/uscprofessor/itp487_enterprise_data_analytics/raw/main/data/wordle_answers.csv'\n",
        "!wget -nc 'https://github.com/uscprofessor/itp487_enterprise_data_analytics/raw/main/data/wordle_guesses.csv'\n",
        "datafile = 'englishwordlist.txt'\n",
        "answers = pd.read_csv('wordle_answers.csv')\n",
        "guesses = pd.read_csv('wordle_guesses.csv')\n",
        "dictionary = pd.read_csv('englishwordlist.txt')"
      ]
    },
    {
      "cell_type": "markdown",
      "source": [
        "#CLEAN\n",
        "\n",
        "**Objectives:**\n",
        "  1. View Data Sample\n",
        "  1. Rename Columns\n",
        "  1. Remove extra columns / non-alpha words / NaNs\n",
        "  1. Normalize data set \n",
        "  1. Create distribution of letters "
      ],
      "metadata": {
        "id": "JJdlZOjHkSIq"
      }
    },
    {
      "cell_type": "code",
      "source": [
        "# view data \n",
        "print(answers)\n",
        "print(guesses)\n",
        "print(dictionary)"
      ],
      "metadata": {
        "colab": {
          "base_uri": "https://localhost:8080/"
        },
        "id": "PXwZTyjrANs3",
        "outputId": "5f0b3868-7f3a-4526-ed68-238341d08ffb"
      },
      "execution_count": null,
      "outputs": [
        {
          "output_type": "stream",
          "name": "stdout",
          "text": [
            "      cigar\n",
            "0     rebut\n",
            "1     sissy\n",
            "2     humph\n",
            "3     awake\n",
            "4     blush\n",
            "...     ...\n",
            "2303  judge\n",
            "2304  rower\n",
            "2305  artsy\n",
            "2306  rural\n",
            "2307  shave\n",
            "\n",
            "[2308 rows x 1 columns]\n",
            "       aahed\n",
            "0      aalii\n",
            "1      aargh\n",
            "2      aarti\n",
            "3      abaca\n",
            "4      abaci\n",
            "...      ...\n",
            "10632  zuzim\n",
            "10633  zygal\n",
            "10634  zygon\n",
            "10635  zymes\n",
            "10636  zymic\n",
            "\n",
            "[10637 rows x 1 columns]\n",
            "                  a\n",
            "0                aa\n",
            "1               aaa\n",
            "2            aachen\n",
            "3          aardvark\n",
            "4         aardvarks\n",
            "...             ...\n",
            "194427  zymotically\n",
            "194428      zymurgy\n",
            "194429       zyrian\n",
            "194430      zyrians\n",
            "194431       zythum\n",
            "\n",
            "[194432 rows x 1 columns]\n"
          ]
        }
      ]
    },
    {
      "cell_type": "code",
      "source": [
        "# name the columns\n",
        "answers.columns = ['word']\n",
        "guesses.columns = ['word']\n",
        "dictionary.columns = ['word']\n"
      ],
      "metadata": {
        "id": "Dd-Tmx44E-k5"
      },
      "execution_count": null,
      "outputs": []
    },
    {
      "cell_type": "code",
      "source": [
        "# REMOVE EXTRA COLUMNS\n",
        "answers = answers[['word']]\n",
        "guesses = guesses[['word']]\n",
        "dictionary = dictionary[['word']]\n",
        "\n",
        "# DROP NAs\n",
        "# <example code or the function call>\n",
        "# option 1: df.dropna(inplace=True) <-- drops all NA values XYX\n",
        "# option\n",
        "\n",
        "# <insert your code>\n",
        "answers.dropna(inplace=True)\n",
        "guesses.dropna(inplace=True)\n",
        "dictionary.dropna(inplace=True)\n",
        "\n",
        "# NORMALIZE DATA SET\n",
        "# remove words with non-alpha characters\n",
        "answers = answers[answers.word.str.isalpha()]\n",
        "guesses = guesses[guesses.word.str.isalpha()]\n",
        "dictionary = dictionary[dictionary.word.str.isalpha()]\n",
        "\n",
        "# make all letters uppercase\n",
        "answers = answers.apply(lambda x: x.astype(str).str.upper())\n",
        "guesses = guesses.apply(lambda x: x.astype(str).str.upper())\n",
        "dictionary = dictionary.apply(lambda x: x.astype(str).str.upper())"
      ],
      "metadata": {
        "id": "r4w56ox0GfNY"
      },
      "execution_count": null,
      "outputs": []
    },
    {
      "cell_type": "code",
      "source": [
        "# Select Which Word List we will Analyze\n",
        "wordlist = pd.concat([answers, guesses])\n",
        "# Use only 5 letter words from the wordlist\n",
        "# only use the 5 letter words from wordlist\n",
        "fiveletterwords = wordlist[wordlist.word.str.len() == 5]\n",
        "# sort defaults to ascending order\n",
        "fiveletterwords = fiveletterwords.sort_values(by=['word'])\n",
        "# reset indices\n",
        "fiveletterwords = fiveletterwords.reset_index()"
      ],
      "metadata": {
        "id": "ndBfKhVSPAtw"
      },
      "execution_count": null,
      "outputs": []
    },
    {
      "cell_type": "code",
      "source": [
        "# let's count the number of words contain each letter of the alphabet\n",
        "# note: already converted all words to upper case\n",
        "upperalpha = 'ABCDEFGHIJKLMNOPQRSTUVWXYZ'\n",
        "\n",
        "# have to set type so pandas_bokeh can display properly\n",
        "countwords = pd.DataFrame({'letter':pd.Series(dtype='str'),\n",
        "                           'lettercount':pd.Series(dtype='int')})\n",
        "\n",
        "for letter in upperalpha:\n",
        "  wordscontainingletter = fiveletterwords[fiveletterwords.word.str.contains(letter)]\n",
        "  lettercount = wordscontainingletter.shape[0]\n",
        "  row = {'letter':letter,'lettercount': int(lettercount)}\n",
        "  countwords = countwords.append(row, ignore_index = True)\n",
        "\n",
        "countwords = countwords.sort_values(by=['lettercount'], ascending=False)"
      ],
      "metadata": {
        "id": "PQbrWPZNQwPD"
      },
      "execution_count": null,
      "outputs": []
    },
    {
      "cell_type": "markdown",
      "source": [
        "#MODEL\n",
        "\n",
        "**Objectives:**\n",
        "\n",
        "1. Visualize distribution \n",
        "1. Find words that include the top 5 letters\n",
        "1. Use top 10 letters to find best guesses for first 2 attempts"
      ],
      "metadata": {
        "id": "oZt2mbnNkU3b"
      }
    },
    {
      "cell_type": "code",
      "source": [
        "# visualize\n",
        "pandas_bokeh.output_notebook()\n",
        "import pandas as pd\n",
        "import pandas_bokeh\n",
        "pandas_bokeh.output_notebook()\n",
        "countwords.plot_bokeh(\n",
        "    kind='bar',\n",
        "    x='letter',\n",
        "    y='lettercount',\n",
        "    ylabel='Number of Words',\n",
        "    xlabel='Letter',\n",
        "    title='Number of Words by Letter'\n",
        ")"
      ],
      "metadata": {
        "colab": {
          "base_uri": "https://localhost:8080/",
          "height": 434
        },
        "id": "VdFLOuJ68ZbW",
        "outputId": "3317b5ff-2885-4479-d205-6cd5a3943aa8"
      },
      "execution_count": null,
      "outputs": [
        {
          "output_type": "display_data",
          "data": {
            "application/javascript": [
              "\n",
              "(function(root) {\n",
              "  function now() {\n",
              "    return new Date();\n",
              "  }\n",
              "\n",
              "  var force = true;\n",
              "\n",
              "  if (typeof root._bokeh_onload_callbacks === \"undefined\" || force === true) {\n",
              "    root._bokeh_onload_callbacks = [];\n",
              "    root._bokeh_is_loading = undefined;\n",
              "  }\n",
              "\n",
              "  var JS_MIME_TYPE = 'application/javascript';\n",
              "  var HTML_MIME_TYPE = 'text/html';\n",
              "  var EXEC_MIME_TYPE = 'application/vnd.bokehjs_exec.v0+json';\n",
              "  var CLASS_NAME = 'output_bokeh rendered_html';\n",
              "\n",
              "  /**\n",
              "   * Render data to the DOM node\n",
              "   */\n",
              "  function render(props, node) {\n",
              "    var script = document.createElement(\"script\");\n",
              "    node.appendChild(script);\n",
              "  }\n",
              "\n",
              "  /**\n",
              "   * Handle when an output is cleared or removed\n",
              "   */\n",
              "  function handleClearOutput(event, handle) {\n",
              "    var cell = handle.cell;\n",
              "\n",
              "    var id = cell.output_area._bokeh_element_id;\n",
              "    var server_id = cell.output_area._bokeh_server_id;\n",
              "    // Clean up Bokeh references\n",
              "    if (id != null && id in Bokeh.index) {\n",
              "      Bokeh.index[id].model.document.clear();\n",
              "      delete Bokeh.index[id];\n",
              "    }\n",
              "\n",
              "    if (server_id !== undefined) {\n",
              "      // Clean up Bokeh references\n",
              "      var cmd = \"from bokeh.io.state import curstate; print(curstate().uuid_to_server['\" + server_id + \"'].get_sessions()[0].document.roots[0]._id)\";\n",
              "      cell.notebook.kernel.execute(cmd, {\n",
              "        iopub: {\n",
              "          output: function(msg) {\n",
              "            var id = msg.content.text.trim();\n",
              "            if (id in Bokeh.index) {\n",
              "              Bokeh.index[id].model.document.clear();\n",
              "              delete Bokeh.index[id];\n",
              "            }\n",
              "          }\n",
              "        }\n",
              "      });\n",
              "      // Destroy server and session\n",
              "      var cmd = \"import bokeh.io.notebook as ion; ion.destroy_server('\" + server_id + \"')\";\n",
              "      cell.notebook.kernel.execute(cmd);\n",
              "    }\n",
              "  }\n",
              "\n",
              "  /**\n",
              "   * Handle when a new output is added\n",
              "   */\n",
              "  function handleAddOutput(event, handle) {\n",
              "    var output_area = handle.output_area;\n",
              "    var output = handle.output;\n",
              "\n",
              "    // limit handleAddOutput to display_data with EXEC_MIME_TYPE content only\n",
              "    if ((output.output_type != \"display_data\") || (!Object.prototype.hasOwnProperty.call(output.data, EXEC_MIME_TYPE))) {\n",
              "      return\n",
              "    }\n",
              "\n",
              "    var toinsert = output_area.element.find(\".\" + CLASS_NAME.split(' ')[0]);\n",
              "\n",
              "    if (output.metadata[EXEC_MIME_TYPE][\"id\"] !== undefined) {\n",
              "      toinsert[toinsert.length - 1].firstChild.textContent = output.data[JS_MIME_TYPE];\n",
              "      // store reference to embed id on output_area\n",
              "      output_area._bokeh_element_id = output.metadata[EXEC_MIME_TYPE][\"id\"];\n",
              "    }\n",
              "    if (output.metadata[EXEC_MIME_TYPE][\"server_id\"] !== undefined) {\n",
              "      var bk_div = document.createElement(\"div\");\n",
              "      bk_div.innerHTML = output.data[HTML_MIME_TYPE];\n",
              "      var script_attrs = bk_div.children[0].attributes;\n",
              "      for (var i = 0; i < script_attrs.length; i++) {\n",
              "        toinsert[toinsert.length - 1].firstChild.setAttribute(script_attrs[i].name, script_attrs[i].value);\n",
              "        toinsert[toinsert.length - 1].firstChild.textContent = bk_div.children[0].textContent\n",
              "      }\n",
              "      // store reference to server id on output_area\n",
              "      output_area._bokeh_server_id = output.metadata[EXEC_MIME_TYPE][\"server_id\"];\n",
              "    }\n",
              "  }\n",
              "\n",
              "  function register_renderer(events, OutputArea) {\n",
              "\n",
              "    function append_mime(data, metadata, element) {\n",
              "      // create a DOM node to render to\n",
              "      var toinsert = this.create_output_subarea(\n",
              "        metadata,\n",
              "        CLASS_NAME,\n",
              "        EXEC_MIME_TYPE\n",
              "      );\n",
              "      this.keyboard_manager.register_events(toinsert);\n",
              "      // Render to node\n",
              "      var props = {data: data, metadata: metadata[EXEC_MIME_TYPE]};\n",
              "      render(props, toinsert[toinsert.length - 1]);\n",
              "      element.append(toinsert);\n",
              "      return toinsert\n",
              "    }\n",
              "\n",
              "    /* Handle when an output is cleared or removed */\n",
              "    events.on('clear_output.CodeCell', handleClearOutput);\n",
              "    events.on('delete.Cell', handleClearOutput);\n",
              "\n",
              "    /* Handle when a new output is added */\n",
              "    events.on('output_added.OutputArea', handleAddOutput);\n",
              "\n",
              "    /**\n",
              "     * Register the mime type and append_mime function with output_area\n",
              "     */\n",
              "    OutputArea.prototype.register_mime_type(EXEC_MIME_TYPE, append_mime, {\n",
              "      /* Is output safe? */\n",
              "      safe: true,\n",
              "      /* Index of renderer in `output_area.display_order` */\n",
              "      index: 0\n",
              "    });\n",
              "  }\n",
              "\n",
              "  // register the mime type if in Jupyter Notebook environment and previously unregistered\n",
              "  if (root.Jupyter !== undefined) {\n",
              "    var events = require('base/js/events');\n",
              "    var OutputArea = require('notebook/js/outputarea').OutputArea;\n",
              "\n",
              "    if (OutputArea.prototype.mime_types().indexOf(EXEC_MIME_TYPE) == -1) {\n",
              "      register_renderer(events, OutputArea);\n",
              "    }\n",
              "  }\n",
              "\n",
              "  \n",
              "  if (typeof (root._bokeh_timeout) === \"undefined\" || force === true) {\n",
              "    root._bokeh_timeout = Date.now() + 5000;\n",
              "    root._bokeh_failed_load = false;\n",
              "  }\n",
              "\n",
              "  var NB_LOAD_WARNING = {'data': {'text/html':\n",
              "     \"<div style='background-color: #fdd'>\\n\"+\n",
              "     \"<p>\\n\"+\n",
              "     \"BokehJS does not appear to have successfully loaded. If loading BokehJS from CDN, this \\n\"+\n",
              "     \"may be due to a slow or bad network connection. Possible fixes:\\n\"+\n",
              "     \"</p>\\n\"+\n",
              "     \"<ul>\\n\"+\n",
              "     \"<li>re-rerun `output_notebook()` to attempt to load from CDN again, or</li>\\n\"+\n",
              "     \"<li>use INLINE resources instead, as so:</li>\\n\"+\n",
              "     \"</ul>\\n\"+\n",
              "     \"<code>\\n\"+\n",
              "     \"from bokeh.resources import INLINE\\n\"+\n",
              "     \"output_notebook(resources=INLINE)\\n\"+\n",
              "     \"</code>\\n\"+\n",
              "     \"</div>\"}};\n",
              "\n",
              "  function display_loaded() {\n",
              "    var el = document.getElementById(null);\n",
              "    if (el != null) {\n",
              "      el.textContent = \"BokehJS is loading...\";\n",
              "    }\n",
              "    if (root.Bokeh !== undefined) {\n",
              "      if (el != null) {\n",
              "        el.textContent = \"BokehJS \" + root.Bokeh.version + \" successfully loaded.\";\n",
              "      }\n",
              "    } else if (Date.now() < root._bokeh_timeout) {\n",
              "      setTimeout(display_loaded, 100)\n",
              "    }\n",
              "  }\n",
              "\n",
              "\n",
              "  function run_callbacks() {\n",
              "    try {\n",
              "      root._bokeh_onload_callbacks.forEach(function(callback) {\n",
              "        if (callback != null)\n",
              "          callback();\n",
              "      });\n",
              "    } finally {\n",
              "      delete root._bokeh_onload_callbacks\n",
              "    }\n",
              "    console.debug(\"Bokeh: all callbacks have finished\");\n",
              "  }\n",
              "\n",
              "  function load_libs(css_urls, js_urls, callback) {\n",
              "    if (css_urls == null) css_urls = [];\n",
              "    if (js_urls == null) js_urls = [];\n",
              "\n",
              "    root._bokeh_onload_callbacks.push(callback);\n",
              "    if (root._bokeh_is_loading > 0) {\n",
              "      console.debug(\"Bokeh: BokehJS is being loaded, scheduling callback at\", now());\n",
              "      return null;\n",
              "    }\n",
              "    if (js_urls == null || js_urls.length === 0) {\n",
              "      run_callbacks();\n",
              "      return null;\n",
              "    }\n",
              "    console.debug(\"Bokeh: BokehJS not loaded, scheduling load and callback at\", now());\n",
              "    root._bokeh_is_loading = css_urls.length + js_urls.length;\n",
              "\n",
              "    function on_load() {\n",
              "      root._bokeh_is_loading--;\n",
              "      if (root._bokeh_is_loading === 0) {\n",
              "        console.debug(\"Bokeh: all BokehJS libraries/stylesheets loaded\");\n",
              "        run_callbacks()\n",
              "      }\n",
              "    }\n",
              "\n",
              "    function on_error(url) {\n",
              "      console.error(\"failed to load \" + url);\n",
              "    }\n",
              "\n",
              "    for (let i = 0; i < css_urls.length; i++) {\n",
              "      const url = css_urls[i];\n",
              "      const element = document.createElement(\"link\");\n",
              "      element.onload = on_load;\n",
              "      element.onerror = on_error.bind(null, url);\n",
              "      element.rel = \"stylesheet\";\n",
              "      element.type = \"text/css\";\n",
              "      element.href = url;\n",
              "      console.debug(\"Bokeh: injecting link tag for BokehJS stylesheet: \", url);\n",
              "      document.body.appendChild(element);\n",
              "    }\n",
              "\n",
              "    const hashes = {\"https://cdn.bokeh.org/bokeh/release/bokeh-2.3.3.min.js\": \"dM3QQsP+wXdHg42wTqW85BjZQdLNNIXqlPw/BgKoExPmTG7ZLML4EGqLMfqHT6ON\", \"https://cdn.bokeh.org/bokeh/release/bokeh-tables-2.3.3.min.js\": \"8x57I4YuIfu8XyZfFo0XVr2WAT8EK4rh/uDe3wF7YuW2FNUSNEpJbsPaB1nJ2fz2\", \"https://cdn.bokeh.org/bokeh/release/bokeh-widgets-2.3.3.min.js\": \"3QTqdz9LyAm2i0sG5XTePsHec3UHWwVsrOL68SYRoAXsafvfAyqtQ+h440+qIBhS\"};\n",
              "\n",
              "    for (let i = 0; i < js_urls.length; i++) {\n",
              "      const url = js_urls[i];\n",
              "      const element = document.createElement('script');\n",
              "      element.onload = on_load;\n",
              "      element.onerror = on_error.bind(null, url);\n",
              "      element.async = false;\n",
              "      element.src = url;\n",
              "      if (url in hashes) {\n",
              "        element.crossOrigin = \"anonymous\";\n",
              "        element.integrity = \"sha384-\" + hashes[url];\n",
              "      }\n",
              "      console.debug(\"Bokeh: injecting script tag for BokehJS library: \", url);\n",
              "      document.head.appendChild(element);\n",
              "    }\n",
              "  };\n",
              "\n",
              "  function inject_raw_css(css) {\n",
              "    const element = document.createElement(\"style\");\n",
              "    element.appendChild(document.createTextNode(css));\n",
              "    document.body.appendChild(element);\n",
              "  }\n",
              "\n",
              "  \n",
              "  var js_urls = [\"https://cdn.bokeh.org/bokeh/release/bokeh-2.3.3.min.js\", \"https://cdn.bokeh.org/bokeh/release/bokeh-widgets-2.3.3.min.js\", \"https://cdn.bokeh.org/bokeh/release/bokeh-tables-2.3.3.min.js\"];\n",
              "  var css_urls = [];\n",
              "  \n",
              "\n",
              "  var inline_js = [\n",
              "    function(Bokeh) {\n",
              "      Bokeh.set_log_level(\"info\");\n",
              "    },\n",
              "    function(Bokeh) {\n",
              "    \n",
              "    \n",
              "    }\n",
              "  ];\n",
              "\n",
              "  function run_inline_js() {\n",
              "    \n",
              "    if (root.Bokeh !== undefined || force === true) {\n",
              "      \n",
              "    for (var i = 0; i < inline_js.length; i++) {\n",
              "      inline_js[i].call(root, root.Bokeh);\n",
              "    }\n",
              "    } else if (Date.now() < root._bokeh_timeout) {\n",
              "      setTimeout(run_inline_js, 100);\n",
              "    } else if (!root._bokeh_failed_load) {\n",
              "      console.log(\"Bokeh: BokehJS failed to load within specified timeout.\");\n",
              "      root._bokeh_failed_load = true;\n",
              "    } else if (force !== true) {\n",
              "      var cell = $(document.getElementById(null)).parents('.cell').data().cell;\n",
              "      cell.output_area.append_execute_result(NB_LOAD_WARNING)\n",
              "    }\n",
              "\n",
              "  }\n",
              "\n",
              "  if (root._bokeh_is_loading === 0) {\n",
              "    console.debug(\"Bokeh: BokehJS loaded, going straight to plotting\");\n",
              "    run_inline_js();\n",
              "  } else {\n",
              "    load_libs(css_urls, js_urls, function() {\n",
              "      console.debug(\"Bokeh: BokehJS plotting callback run at\", now());\n",
              "      run_inline_js();\n",
              "    });\n",
              "  }\n",
              "}(window));"
            ],
            "application/vnd.bokehjs_load.v0+json": "\n(function(root) {\n  function now() {\n    return new Date();\n  }\n\n  var force = true;\n\n  if (typeof root._bokeh_onload_callbacks === \"undefined\" || force === true) {\n    root._bokeh_onload_callbacks = [];\n    root._bokeh_is_loading = undefined;\n  }\n\n  \n\n  \n  if (typeof (root._bokeh_timeout) === \"undefined\" || force === true) {\n    root._bokeh_timeout = Date.now() + 5000;\n    root._bokeh_failed_load = false;\n  }\n\n  var NB_LOAD_WARNING = {'data': {'text/html':\n     \"<div style='background-color: #fdd'>\\n\"+\n     \"<p>\\n\"+\n     \"BokehJS does not appear to have successfully loaded. If loading BokehJS from CDN, this \\n\"+\n     \"may be due to a slow or bad network connection. Possible fixes:\\n\"+\n     \"</p>\\n\"+\n     \"<ul>\\n\"+\n     \"<li>re-rerun `output_notebook()` to attempt to load from CDN again, or</li>\\n\"+\n     \"<li>use INLINE resources instead, as so:</li>\\n\"+\n     \"</ul>\\n\"+\n     \"<code>\\n\"+\n     \"from bokeh.resources import INLINE\\n\"+\n     \"output_notebook(resources=INLINE)\\n\"+\n     \"</code>\\n\"+\n     \"</div>\"}};\n\n  function display_loaded() {\n    var el = document.getElementById(null);\n    if (el != null) {\n      el.textContent = \"BokehJS is loading...\";\n    }\n    if (root.Bokeh !== undefined) {\n      if (el != null) {\n        el.textContent = \"BokehJS \" + root.Bokeh.version + \" successfully loaded.\";\n      }\n    } else if (Date.now() < root._bokeh_timeout) {\n      setTimeout(display_loaded, 100)\n    }\n  }\n\n\n  function run_callbacks() {\n    try {\n      root._bokeh_onload_callbacks.forEach(function(callback) {\n        if (callback != null)\n          callback();\n      });\n    } finally {\n      delete root._bokeh_onload_callbacks\n    }\n    console.debug(\"Bokeh: all callbacks have finished\");\n  }\n\n  function load_libs(css_urls, js_urls, callback) {\n    if (css_urls == null) css_urls = [];\n    if (js_urls == null) js_urls = [];\n\n    root._bokeh_onload_callbacks.push(callback);\n    if (root._bokeh_is_loading > 0) {\n      console.debug(\"Bokeh: BokehJS is being loaded, scheduling callback at\", now());\n      return null;\n    }\n    if (js_urls == null || js_urls.length === 0) {\n      run_callbacks();\n      return null;\n    }\n    console.debug(\"Bokeh: BokehJS not loaded, scheduling load and callback at\", now());\n    root._bokeh_is_loading = css_urls.length + js_urls.length;\n\n    function on_load() {\n      root._bokeh_is_loading--;\n      if (root._bokeh_is_loading === 0) {\n        console.debug(\"Bokeh: all BokehJS libraries/stylesheets loaded\");\n        run_callbacks()\n      }\n    }\n\n    function on_error(url) {\n      console.error(\"failed to load \" + url);\n    }\n\n    for (let i = 0; i < css_urls.length; i++) {\n      const url = css_urls[i];\n      const element = document.createElement(\"link\");\n      element.onload = on_load;\n      element.onerror = on_error.bind(null, url);\n      element.rel = \"stylesheet\";\n      element.type = \"text/css\";\n      element.href = url;\n      console.debug(\"Bokeh: injecting link tag for BokehJS stylesheet: \", url);\n      document.body.appendChild(element);\n    }\n\n    const hashes = {\"https://cdn.bokeh.org/bokeh/release/bokeh-2.3.3.min.js\": \"dM3QQsP+wXdHg42wTqW85BjZQdLNNIXqlPw/BgKoExPmTG7ZLML4EGqLMfqHT6ON\", \"https://cdn.bokeh.org/bokeh/release/bokeh-tables-2.3.3.min.js\": \"8x57I4YuIfu8XyZfFo0XVr2WAT8EK4rh/uDe3wF7YuW2FNUSNEpJbsPaB1nJ2fz2\", \"https://cdn.bokeh.org/bokeh/release/bokeh-widgets-2.3.3.min.js\": \"3QTqdz9LyAm2i0sG5XTePsHec3UHWwVsrOL68SYRoAXsafvfAyqtQ+h440+qIBhS\"};\n\n    for (let i = 0; i < js_urls.length; i++) {\n      const url = js_urls[i];\n      const element = document.createElement('script');\n      element.onload = on_load;\n      element.onerror = on_error.bind(null, url);\n      element.async = false;\n      element.src = url;\n      if (url in hashes) {\n        element.crossOrigin = \"anonymous\";\n        element.integrity = \"sha384-\" + hashes[url];\n      }\n      console.debug(\"Bokeh: injecting script tag for BokehJS library: \", url);\n      document.head.appendChild(element);\n    }\n  };\n\n  function inject_raw_css(css) {\n    const element = document.createElement(\"style\");\n    element.appendChild(document.createTextNode(css));\n    document.body.appendChild(element);\n  }\n\n  \n  var js_urls = [\"https://cdn.bokeh.org/bokeh/release/bokeh-2.3.3.min.js\", \"https://cdn.bokeh.org/bokeh/release/bokeh-widgets-2.3.3.min.js\", \"https://cdn.bokeh.org/bokeh/release/bokeh-tables-2.3.3.min.js\"];\n  var css_urls = [];\n  \n\n  var inline_js = [\n    function(Bokeh) {\n      Bokeh.set_log_level(\"info\");\n    },\n    function(Bokeh) {\n    \n    \n    }\n  ];\n\n  function run_inline_js() {\n    \n    if (root.Bokeh !== undefined || force === true) {\n      \n    for (var i = 0; i < inline_js.length; i++) {\n      inline_js[i].call(root, root.Bokeh);\n    }\n    } else if (Date.now() < root._bokeh_timeout) {\n      setTimeout(run_inline_js, 100);\n    } else if (!root._bokeh_failed_load) {\n      console.log(\"Bokeh: BokehJS failed to load within specified timeout.\");\n      root._bokeh_failed_load = true;\n    } else if (force !== true) {\n      var cell = $(document.getElementById(null)).parents('.cell').data().cell;\n      cell.output_area.append_execute_result(NB_LOAD_WARNING)\n    }\n\n  }\n\n  if (root._bokeh_is_loading === 0) {\n    console.debug(\"Bokeh: BokehJS loaded, going straight to plotting\");\n    run_inline_js();\n  } else {\n    load_libs(css_urls, js_urls, function() {\n      console.debug(\"Bokeh: BokehJS plotting callback run at\", now());\n      run_inline_js();\n    });\n  }\n}(window));"
          },
          "metadata": {}
        },
        {
          "output_type": "display_data",
          "data": {
            "text/html": [
              "\n",
              "\n",
              "\n",
              "\n",
              "\n",
              "\n",
              "  <div class=\"bk-root\" id=\"4d98b428-5b14-4248-b172-6bcfd8c84bee\" data-root-id=\"1038\"></div>\n"
            ]
          },
          "metadata": {}
        },
        {
          "output_type": "display_data",
          "data": {
            "application/javascript": [
              "(function(root) {\n",
              "  function embed_document(root) {\n",
              "    \n",
              "  var docs_json = {\"8d570460-532d-443b-b088-30e098a473ef\":{\"defs\":[],\"roots\":{\"references\":[{\"attributes\":{\"below\":[{\"id\":\"1049\"}],\"center\":[{\"id\":\"1052\"},{\"id\":\"1056\"},{\"id\":\"1088\"}],\"height\":400,\"left\":[{\"id\":\"1053\"}],\"output_backend\":\"webgl\",\"renderers\":[{\"id\":\"1077\"}],\"sizing_mode\":\"fixed\",\"title\":{\"id\":\"1039\"},\"toolbar\":{\"id\":\"1064\"},\"x_range\":{\"id\":\"1041\"},\"x_scale\":{\"id\":\"1045\"},\"y_range\":{\"id\":\"1043\"},\"y_scale\":{\"id\":\"1047\"}},\"id\":\"1038\",\"subtype\":\"Figure\",\"type\":\"Plot\"},{\"attributes\":{},\"id\":\"1043\",\"type\":\"DataRange1d\"},{\"attributes\":{\"fill_color\":{\"value\":\"#1f77b4\"},\"line_color\":{\"value\":\"#1f77b4\"},\"line_width\":{\"value\":2},\"top\":{\"field\":\"lettercount\"},\"width\":{\"value\":0.7},\"x\":{\"field\":\"__x__values\",\"transform\":{\"id\":\"1073\"}}},\"id\":\"1075\",\"type\":\"VBar\"},{\"attributes\":{},\"id\":\"1058\",\"type\":\"WheelZoomTool\"},{\"attributes\":{},\"id\":\"1057\",\"type\":\"PanTool\"},{\"attributes\":{\"click_policy\":\"hide\",\"items\":[{\"id\":\"1089\"}]},\"id\":\"1088\",\"type\":\"Legend\"},{\"attributes\":{\"bottom_units\":\"screen\",\"fill_alpha\":0.5,\"fill_color\":\"lightgrey\",\"left_units\":\"screen\",\"level\":\"overlay\",\"line_alpha\":1.0,\"line_color\":\"black\",\"line_dash\":[4,4],\"line_width\":2,\"right_units\":\"screen\",\"syncable\":false,\"top_units\":\"screen\"},\"id\":\"1063\",\"type\":\"BoxAnnotation\"},{\"attributes\":{\"fill_alpha\":{\"value\":0.1},\"fill_color\":{\"value\":\"#1f77b4\"},\"line_alpha\":{\"value\":0.1},\"line_color\":{\"value\":\"#1f77b4\"},\"line_width\":{\"value\":2},\"top\":{\"field\":\"lettercount\"},\"width\":{\"value\":0.7},\"x\":{\"field\":\"__x__values\",\"transform\":{\"id\":\"1073\"}}},\"id\":\"1076\",\"type\":\"VBar\"},{\"attributes\":{},\"id\":\"1082\",\"type\":\"BasicTickFormatter\"},{\"attributes\":{\"axis_label\":\"Number of Words\",\"formatter\":{\"id\":\"1082\"},\"major_label_policy\":{\"id\":\"1081\"},\"ticker\":{\"id\":\"1054\"}},\"id\":\"1053\",\"type\":\"LinearAxis\"},{\"attributes\":{\"overlay\":{\"id\":\"1063\"}},\"id\":\"1059\",\"type\":\"BoxZoomTool\"},{\"attributes\":{\"code\":\"\\n                                    var labels = {0: 'S', 1: 'E', 2: 'A', 3: 'R', 4: 'O', 5: 'I', 6: 'L', 7: 'T', 8: 'N', 9: 'U', 10: 'D', 11: 'Y', 12: 'C', 13: 'P', 14: 'M', 15: 'H', 16: 'G', 17: 'B', 18: 'K', 19: 'W', 20: 'F', 21: 'V', 22: 'Z', 23: 'J', 24: 'X', 25: 'Q'};\\n                                    return labels[tick];\\n                                    \"},\"id\":\"1071\",\"type\":\"FuncTickFormatter\"},{\"attributes\":{},\"id\":\"1085\",\"type\":\"Selection\"},{\"attributes\":{\"data_source\":{\"id\":\"1037\"},\"glyph\":{\"id\":\"1075\"},\"hover_glyph\":null,\"muted_glyph\":null,\"nonselection_glyph\":{\"id\":\"1076\"},\"view\":{\"id\":\"1078\"}},\"id\":\"1077\",\"type\":\"GlyphRenderer\"},{\"attributes\":{},\"id\":\"1084\",\"type\":\"AllLabels\"},{\"attributes\":{\"data\":{\"__x__values\":[0,1,2,3,4,5,6,7,8,9,10,11,12,13,14,15,16,17,18,19,20,21,22,23,24,25],\"__x__values_original\":[\"S\",\"E\",\"A\",\"R\",\"O\",\"I\",\"L\",\"T\",\"N\",\"U\",\"D\",\"Y\",\"C\",\"P\",\"M\",\"H\",\"G\",\"B\",\"K\",\"W\",\"F\",\"V\",\"Z\",\"J\",\"X\",\"Q\"],\"lettercount\":[5924,5695,5322,3904,3904,3581,3109,3030,2783,2433,2293,2024,1912,1880,1867,1701,1538,1516,1435,1026,987,673,391,289,287,111]},\"selected\":{\"id\":\"1085\"},\"selection_policy\":{\"id\":\"1086\"}},\"id\":\"1037\",\"type\":\"ColumnDataSource\"},{\"attributes\":{\"ticks\":[0,1,2,3,4,5,6,7,8,9,10,11,12,13,14,15,16,17,18,19,20,21,22,23,24,25]},\"id\":\"1092\",\"type\":\"FixedTicker\"},{\"attributes\":{\"text\":\"Number of Words by Letter\"},\"id\":\"1039\",\"type\":\"Title\"},{\"attributes\":{\"range\":{\"id\":\"1041\"}},\"id\":\"1073\",\"type\":\"Dodge\"},{\"attributes\":{},\"id\":\"1054\",\"type\":\"BasicTicker\"},{\"attributes\":{\"active_multi\":null,\"active_scroll\":{\"id\":\"1058\"},\"tools\":[{\"id\":\"1057\"},{\"id\":\"1058\"},{\"id\":\"1059\"},{\"id\":\"1060\"},{\"id\":\"1061\"},{\"id\":\"1062\"},{\"id\":\"1090\"}]},\"id\":\"1064\",\"type\":\"Toolbar\"},{\"attributes\":{},\"id\":\"1081\",\"type\":\"AllLabels\"},{\"attributes\":{},\"id\":\"1086\",\"type\":\"UnionRenderers\"},{\"attributes\":{},\"id\":\"1045\",\"type\":\"LinearScale\"},{\"attributes\":{\"axis\":{\"id\":\"1049\"},\"ticker\":null},\"id\":\"1052\",\"type\":\"Grid\"},{\"attributes\":{\"source\":{\"id\":\"1037\"}},\"id\":\"1078\",\"type\":\"CDSView\"},{\"attributes\":{\"callback\":null,\"mode\":\"vline\",\"renderers\":[{\"id\":\"1077\"}],\"tooltips\":[[\"Letter\",\"@__x__values_original\"],[\"lettercount\",\"@{lettercount}\"]]},\"id\":\"1090\",\"type\":\"HoverTool\"},{\"attributes\":{\"label\":{\"value\":\" lettercount\"},\"renderers\":[{\"id\":\"1077\"}]},\"id\":\"1089\",\"type\":\"LegendItem\"},{\"attributes\":{\"axis\":{\"id\":\"1053\"},\"dimension\":1,\"ticker\":null},\"id\":\"1056\",\"type\":\"Grid\"},{\"attributes\":{},\"id\":\"1062\",\"type\":\"HelpTool\"},{\"attributes\":{\"axis_label\":\"Letter\",\"formatter\":{\"id\":\"1071\"},\"major_label_policy\":{\"id\":\"1084\"},\"ticker\":{\"id\":\"1092\"}},\"id\":\"1049\",\"type\":\"LinearAxis\"},{\"attributes\":{},\"id\":\"1061\",\"type\":\"ResetTool\"},{\"attributes\":{},\"id\":\"1047\",\"type\":\"LinearScale\"},{\"attributes\":{},\"id\":\"1060\",\"type\":\"SaveTool\"},{\"attributes\":{},\"id\":\"1041\",\"type\":\"DataRange1d\"}],\"root_ids\":[\"1038\"]},\"title\":\"Bokeh Application\",\"version\":\"2.3.3\"}};\n",
              "  var render_items = [{\"docid\":\"8d570460-532d-443b-b088-30e098a473ef\",\"root_ids\":[\"1038\"],\"roots\":{\"1038\":\"4d98b428-5b14-4248-b172-6bcfd8c84bee\"}}];\n",
              "  root.Bokeh.embed.embed_items_notebook(docs_json, render_items);\n",
              "\n",
              "  }\n",
              "  if (root.Bokeh !== undefined) {\n",
              "    embed_document(root);\n",
              "  } else {\n",
              "    var attempts = 0;\n",
              "    var timer = setInterval(function(root) {\n",
              "      if (root.Bokeh !== undefined) {\n",
              "        clearInterval(timer);\n",
              "        embed_document(root);\n",
              "      } else {\n",
              "        attempts++;\n",
              "        if (attempts > 100) {\n",
              "          clearInterval(timer);\n",
              "          console.log(\"Bokeh: ERROR: Unable to run BokehJS code because BokehJS library is missing\");\n",
              "        }\n",
              "      }\n",
              "    }, 10, root)\n",
              "  }\n",
              "})(window);"
            ],
            "application/vnd.bokehjs_exec.v0+json": ""
          },
          "metadata": {
            "application/vnd.bokehjs_exec.v0+json": {
              "id": "1038"
            }
          }
        },
        {
          "output_type": "execute_result",
          "data": {
            "text/html": [
              "<div style=\"display: table;\"><div style=\"display: table-row;\"><div style=\"display: table-cell;\"><b title=\"bokeh.plotting.figure.Figure\">Figure</b>(</div><div style=\"display: table-cell;\">id&nbsp;=&nbsp;'1038', <span id=\"1143\" style=\"cursor: pointer;\">&hellip;)</span></div></div><div class=\"1142\" style=\"display: none;\"><div style=\"display: table-cell;\"></div><div style=\"display: table-cell;\">above&nbsp;=&nbsp;[],</div></div><div class=\"1142\" style=\"display: none;\"><div style=\"display: table-cell;\"></div><div style=\"display: table-cell;\">align&nbsp;=&nbsp;'start',</div></div><div class=\"1142\" style=\"display: none;\"><div style=\"display: table-cell;\"></div><div style=\"display: table-cell;\">aspect_ratio&nbsp;=&nbsp;None,</div></div><div class=\"1142\" style=\"display: none;\"><div style=\"display: table-cell;\"></div><div style=\"display: table-cell;\">aspect_scale&nbsp;=&nbsp;1,</div></div><div class=\"1142\" style=\"display: none;\"><div style=\"display: table-cell;\"></div><div style=\"display: table-cell;\">background&nbsp;=&nbsp;None,</div></div><div class=\"1142\" style=\"display: none;\"><div style=\"display: table-cell;\"></div><div style=\"display: table-cell;\">background_fill_alpha&nbsp;=&nbsp;1.0,</div></div><div class=\"1142\" style=\"display: none;\"><div style=\"display: table-cell;\"></div><div style=\"display: table-cell;\">background_fill_color&nbsp;=&nbsp;'#ffffff',</div></div><div class=\"1142\" style=\"display: none;\"><div style=\"display: table-cell;\"></div><div style=\"display: table-cell;\">below&nbsp;=&nbsp;[LinearAxis(id='1049', ...)],</div></div><div class=\"1142\" style=\"display: none;\"><div style=\"display: table-cell;\"></div><div style=\"display: table-cell;\">border_fill_alpha&nbsp;=&nbsp;1.0,</div></div><div class=\"1142\" style=\"display: none;\"><div style=\"display: table-cell;\"></div><div style=\"display: table-cell;\">border_fill_color&nbsp;=&nbsp;'#ffffff',</div></div><div class=\"1142\" style=\"display: none;\"><div style=\"display: table-cell;\"></div><div style=\"display: table-cell;\">center&nbsp;=&nbsp;[Grid(id='1052', ...), Grid(id='1056', ...), Legend(id='1088', ...)],</div></div><div class=\"1142\" style=\"display: none;\"><div style=\"display: table-cell;\"></div><div style=\"display: table-cell;\">css_classes&nbsp;=&nbsp;[],</div></div><div class=\"1142\" style=\"display: none;\"><div style=\"display: table-cell;\"></div><div style=\"display: table-cell;\">disabled&nbsp;=&nbsp;False,</div></div><div class=\"1142\" style=\"display: none;\"><div style=\"display: table-cell;\"></div><div style=\"display: table-cell;\">extra_x_ranges&nbsp;=&nbsp;{},</div></div><div class=\"1142\" style=\"display: none;\"><div style=\"display: table-cell;\"></div><div style=\"display: table-cell;\">extra_y_ranges&nbsp;=&nbsp;{},</div></div><div class=\"1142\" style=\"display: none;\"><div style=\"display: table-cell;\"></div><div style=\"display: table-cell;\">frame_height&nbsp;=&nbsp;None,</div></div><div class=\"1142\" style=\"display: none;\"><div style=\"display: table-cell;\"></div><div style=\"display: table-cell;\">frame_width&nbsp;=&nbsp;None,</div></div><div class=\"1142\" style=\"display: none;\"><div style=\"display: table-cell;\"></div><div style=\"display: table-cell;\">height&nbsp;=&nbsp;400,</div></div><div class=\"1142\" style=\"display: none;\"><div style=\"display: table-cell;\"></div><div style=\"display: table-cell;\">height_policy&nbsp;=&nbsp;'auto',</div></div><div class=\"1142\" style=\"display: none;\"><div style=\"display: table-cell;\"></div><div style=\"display: table-cell;\">hidpi&nbsp;=&nbsp;True,</div></div><div class=\"1142\" style=\"display: none;\"><div style=\"display: table-cell;\"></div><div style=\"display: table-cell;\">inner_height&nbsp;=&nbsp;0,</div></div><div class=\"1142\" style=\"display: none;\"><div style=\"display: table-cell;\"></div><div style=\"display: table-cell;\">inner_width&nbsp;=&nbsp;0,</div></div><div class=\"1142\" style=\"display: none;\"><div style=\"display: table-cell;\"></div><div style=\"display: table-cell;\">js_event_callbacks&nbsp;=&nbsp;{},</div></div><div class=\"1142\" style=\"display: none;\"><div style=\"display: table-cell;\"></div><div style=\"display: table-cell;\">js_property_callbacks&nbsp;=&nbsp;{},</div></div><div class=\"1142\" style=\"display: none;\"><div style=\"display: table-cell;\"></div><div style=\"display: table-cell;\">left&nbsp;=&nbsp;[LinearAxis(id='1053', ...)],</div></div><div class=\"1142\" style=\"display: none;\"><div style=\"display: table-cell;\"></div><div style=\"display: table-cell;\">lod_factor&nbsp;=&nbsp;10,</div></div><div class=\"1142\" style=\"display: none;\"><div style=\"display: table-cell;\"></div><div style=\"display: table-cell;\">lod_interval&nbsp;=&nbsp;300,</div></div><div class=\"1142\" style=\"display: none;\"><div style=\"display: table-cell;\"></div><div style=\"display: table-cell;\">lod_threshold&nbsp;=&nbsp;2000,</div></div><div class=\"1142\" style=\"display: none;\"><div style=\"display: table-cell;\"></div><div style=\"display: table-cell;\">lod_timeout&nbsp;=&nbsp;500,</div></div><div class=\"1142\" style=\"display: none;\"><div style=\"display: table-cell;\"></div><div style=\"display: table-cell;\">margin&nbsp;=&nbsp;(0, 0, 0, 0),</div></div><div class=\"1142\" style=\"display: none;\"><div style=\"display: table-cell;\"></div><div style=\"display: table-cell;\">match_aspect&nbsp;=&nbsp;False,</div></div><div class=\"1142\" style=\"display: none;\"><div style=\"display: table-cell;\"></div><div style=\"display: table-cell;\">max_height&nbsp;=&nbsp;None,</div></div><div class=\"1142\" style=\"display: none;\"><div style=\"display: table-cell;\"></div><div style=\"display: table-cell;\">max_width&nbsp;=&nbsp;None,</div></div><div class=\"1142\" style=\"display: none;\"><div style=\"display: table-cell;\"></div><div style=\"display: table-cell;\">min_border&nbsp;=&nbsp;5,</div></div><div class=\"1142\" style=\"display: none;\"><div style=\"display: table-cell;\"></div><div style=\"display: table-cell;\">min_border_bottom&nbsp;=&nbsp;None,</div></div><div class=\"1142\" style=\"display: none;\"><div style=\"display: table-cell;\"></div><div style=\"display: table-cell;\">min_border_left&nbsp;=&nbsp;None,</div></div><div class=\"1142\" style=\"display: none;\"><div style=\"display: table-cell;\"></div><div style=\"display: table-cell;\">min_border_right&nbsp;=&nbsp;None,</div></div><div class=\"1142\" style=\"display: none;\"><div style=\"display: table-cell;\"></div><div style=\"display: table-cell;\">min_border_top&nbsp;=&nbsp;None,</div></div><div class=\"1142\" style=\"display: none;\"><div style=\"display: table-cell;\"></div><div style=\"display: table-cell;\">min_height&nbsp;=&nbsp;None,</div></div><div class=\"1142\" style=\"display: none;\"><div style=\"display: table-cell;\"></div><div style=\"display: table-cell;\">min_width&nbsp;=&nbsp;None,</div></div><div class=\"1142\" style=\"display: none;\"><div style=\"display: table-cell;\"></div><div style=\"display: table-cell;\">name&nbsp;=&nbsp;None,</div></div><div class=\"1142\" style=\"display: none;\"><div style=\"display: table-cell;\"></div><div style=\"display: table-cell;\">outer_height&nbsp;=&nbsp;0,</div></div><div class=\"1142\" style=\"display: none;\"><div style=\"display: table-cell;\"></div><div style=\"display: table-cell;\">outer_width&nbsp;=&nbsp;0,</div></div><div class=\"1142\" style=\"display: none;\"><div style=\"display: table-cell;\"></div><div style=\"display: table-cell;\">outline_line_alpha&nbsp;=&nbsp;1.0,</div></div><div class=\"1142\" style=\"display: none;\"><div style=\"display: table-cell;\"></div><div style=\"display: table-cell;\">outline_line_cap&nbsp;=&nbsp;'butt',</div></div><div class=\"1142\" style=\"display: none;\"><div style=\"display: table-cell;\"></div><div style=\"display: table-cell;\">outline_line_color&nbsp;=&nbsp;'#e5e5e5',</div></div><div class=\"1142\" style=\"display: none;\"><div style=\"display: table-cell;\"></div><div style=\"display: table-cell;\">outline_line_dash&nbsp;=&nbsp;[],</div></div><div class=\"1142\" style=\"display: none;\"><div style=\"display: table-cell;\"></div><div style=\"display: table-cell;\">outline_line_dash_offset&nbsp;=&nbsp;0,</div></div><div class=\"1142\" style=\"display: none;\"><div style=\"display: table-cell;\"></div><div style=\"display: table-cell;\">outline_line_join&nbsp;=&nbsp;'bevel',</div></div><div class=\"1142\" style=\"display: none;\"><div style=\"display: table-cell;\"></div><div style=\"display: table-cell;\">outline_line_width&nbsp;=&nbsp;1,</div></div><div class=\"1142\" style=\"display: none;\"><div style=\"display: table-cell;\"></div><div style=\"display: table-cell;\">output_backend&nbsp;=&nbsp;'webgl',</div></div><div class=\"1142\" style=\"display: none;\"><div style=\"display: table-cell;\"></div><div style=\"display: table-cell;\">renderers&nbsp;=&nbsp;[GlyphRenderer(id='1077', ...)],</div></div><div class=\"1142\" style=\"display: none;\"><div style=\"display: table-cell;\"></div><div style=\"display: table-cell;\">reset_policy&nbsp;=&nbsp;'standard',</div></div><div class=\"1142\" style=\"display: none;\"><div style=\"display: table-cell;\"></div><div style=\"display: table-cell;\">right&nbsp;=&nbsp;[],</div></div><div class=\"1142\" style=\"display: none;\"><div style=\"display: table-cell;\"></div><div style=\"display: table-cell;\">sizing_mode&nbsp;=&nbsp;'fixed',</div></div><div class=\"1142\" style=\"display: none;\"><div style=\"display: table-cell;\"></div><div style=\"display: table-cell;\">subscribed_events&nbsp;=&nbsp;[],</div></div><div class=\"1142\" style=\"display: none;\"><div style=\"display: table-cell;\"></div><div style=\"display: table-cell;\">syncable&nbsp;=&nbsp;True,</div></div><div class=\"1142\" style=\"display: none;\"><div style=\"display: table-cell;\"></div><div style=\"display: table-cell;\">tags&nbsp;=&nbsp;[],</div></div><div class=\"1142\" style=\"display: none;\"><div style=\"display: table-cell;\"></div><div style=\"display: table-cell;\">title&nbsp;=&nbsp;Title(id='1039', ...),</div></div><div class=\"1142\" style=\"display: none;\"><div style=\"display: table-cell;\"></div><div style=\"display: table-cell;\">title_location&nbsp;=&nbsp;'above',</div></div><div class=\"1142\" style=\"display: none;\"><div style=\"display: table-cell;\"></div><div style=\"display: table-cell;\">toolbar&nbsp;=&nbsp;Toolbar(id='1064', ...),</div></div><div class=\"1142\" style=\"display: none;\"><div style=\"display: table-cell;\"></div><div style=\"display: table-cell;\">toolbar_location&nbsp;=&nbsp;'right',</div></div><div class=\"1142\" style=\"display: none;\"><div style=\"display: table-cell;\"></div><div style=\"display: table-cell;\">toolbar_sticky&nbsp;=&nbsp;True,</div></div><div class=\"1142\" style=\"display: none;\"><div style=\"display: table-cell;\"></div><div style=\"display: table-cell;\">visible&nbsp;=&nbsp;True,</div></div><div class=\"1142\" style=\"display: none;\"><div style=\"display: table-cell;\"></div><div style=\"display: table-cell;\">width&nbsp;=&nbsp;600,</div></div><div class=\"1142\" style=\"display: none;\"><div style=\"display: table-cell;\"></div><div style=\"display: table-cell;\">width_policy&nbsp;=&nbsp;'auto',</div></div><div class=\"1142\" style=\"display: none;\"><div style=\"display: table-cell;\"></div><div style=\"display: table-cell;\">x_range&nbsp;=&nbsp;DataRange1d(id='1041', ...),</div></div><div class=\"1142\" style=\"display: none;\"><div style=\"display: table-cell;\"></div><div style=\"display: table-cell;\">x_scale&nbsp;=&nbsp;LinearScale(id='1045', ...),</div></div><div class=\"1142\" style=\"display: none;\"><div style=\"display: table-cell;\"></div><div style=\"display: table-cell;\">y_range&nbsp;=&nbsp;DataRange1d(id='1043', ...),</div></div><div class=\"1142\" style=\"display: none;\"><div style=\"display: table-cell;\"></div><div style=\"display: table-cell;\">y_scale&nbsp;=&nbsp;LinearScale(id='1047', ...))</div></div></div>\n",
              "<script>\n",
              "(function() {\n",
              "  var expanded = false;\n",
              "  var ellipsis = document.getElementById(\"1143\");\n",
              "  ellipsis.addEventListener(\"click\", function() {\n",
              "    var rows = document.getElementsByClassName(\"1142\");\n",
              "    for (var i = 0; i < rows.length; i++) {\n",
              "      var el = rows[i];\n",
              "      el.style.display = expanded ? \"none\" : \"table-row\";\n",
              "    }\n",
              "    ellipsis.innerHTML = expanded ? \"&hellip;)\" : \"&lsaquo;&lsaquo;&lsaquo;\";\n",
              "    expanded = !expanded;\n",
              "  });\n",
              "})();\n",
              "</script>\n"
            ],
            "text/plain": [
              "Figure(id='1038', ...)"
            ]
          },
          "metadata": {},
          "execution_count": 11
        }
      ]
    },
    {
      "cell_type": "code",
      "source": [
        "# get five letters\n",
        "# could also use countwords.head(10)\n",
        "topfiveletters = countwords.iloc[:5]\n",
        "\n",
        "#make a string with top five letters\n",
        "topfiveletterstring = ''\n",
        "for index, row in topfiveletters.iterrows():\n",
        "  topfiveletterstring += str(row[0])\n",
        "\n",
        "print('Topfiveletterstring: ' + topfiveletterstring)\n",
        "char = set(topfiveletterstring)\n",
        "temp = fiveletterwords.word\n",
        "topfiveletterwords = temp[temp.apply(lambda x: char.issubset(x))]\n",
        "printvar(topfiveletterwords)"
      ],
      "metadata": {
        "colab": {
          "base_uri": "https://localhost:8080/"
        },
        "id": "fT3Mbpwfhhz_",
        "outputId": "d930edc6-02bc-4f7a-d07f-71f82672a17b"
      },
      "execution_count": null,
      "outputs": [
        {
          "output_type": "stream",
          "name": "stdout",
          "text": [
            "Topfiveletterstring: SEARO\n",
            "==========PRINTVAR============\n",
            "Type: <class 'pandas.core.series.Series'>\n",
            "Length: 3\n",
            "Index: Int64Index([139, 547, 10342], dtype='int64')\n",
            "Contents: \n",
            "139      AEROS\n",
            "547      AROSE\n",
            "10342    SOARE\n",
            "Name: word, dtype: object\n",
            "==========PRINTVAR============\n"
          ]
        }
      ]
    },
    {
      "cell_type": "code",
      "source": [
        "# get top ten letters\n",
        "# could also use countwords.head(10)\n",
        "toptenletters = countwords.iloc[:10]\n",
        "print(toptenletters)\n",
        "\n",
        "#make a string with top ten letters\n",
        "toptenletterstring = ''\n",
        "for index, row in toptenletters.iterrows():\n",
        "  toptenletterstring += str(row[0])\n",
        "\n",
        "print(toptenletterstring)\n",
        "\n",
        "# get the other letters\n",
        "# could also use countwords.tail(16)\n",
        "nontoptenletters = countwords.iloc[-16:]\n",
        "print(nontoptenletters)\n",
        "\n",
        "\n",
        "\n",
        "#make a string with non top ten letters\n",
        "nontoptenletterstring = ''\n",
        "for index, row in nontoptenletters.iterrows():\n",
        "  nontoptenletterstring += str(row[0])\n",
        "print(nontoptenletterstring)"
      ],
      "metadata": {
        "colab": {
          "base_uri": "https://localhost:8080/"
        },
        "id": "dSQIN7GyEDo9",
        "outputId": "1d26ee5e-c092-491f-9277-cc8395a41320"
      },
      "execution_count": null,
      "outputs": [
        {
          "output_type": "stream",
          "name": "stdout",
          "text": [
            "   letter  lettercount\n",
            "18      S         5924\n",
            "4       E         5695\n",
            "0       A         5322\n",
            "17      R         3904\n",
            "14      O         3904\n",
            "8       I         3581\n",
            "11      L         3109\n",
            "19      T         3030\n",
            "13      N         2783\n",
            "20      U         2433\n",
            "SEAROILTNU\n",
            "   letter  lettercount\n",
            "3       D         2293\n",
            "24      Y         2024\n",
            "2       C         1912\n",
            "15      P         1880\n",
            "12      M         1867\n",
            "7       H         1701\n",
            "6       G         1538\n",
            "1       B         1516\n",
            "10      K         1435\n",
            "22      W         1026\n",
            "5       F          987\n",
            "21      V          673\n",
            "25      Z          391\n",
            "9       J          289\n",
            "23      X          287\n",
            "16      Q          111\n",
            "DYCPMHGBKWFVZJXQ\n"
          ]
        }
      ]
    },
    {
      "cell_type": "code",
      "source": [
        "# get words with only the top ten letters\n",
        "# will do this by finding all words with the not ten letters in it\n",
        "# reversing the boolean to only get the words that have top ten letters only in it\n",
        "import re\n",
        "pattern = '['+nontoptenletterstring+']'\n",
        "nottoptenwordsboolean = fiveletterwords.word.str.match(pat=pattern)\n",
        "toptenwordsboolean = ~nottoptenwordsboolean\n",
        "toptenwordsonly = fiveletterwords[toptenwordsboolean]\n",
        "toptenwordsonly"
      ],
      "metadata": {
        "colab": {
          "base_uri": "https://localhost:8080/",
          "height": 423
        },
        "id": "xyDDO_35Rpt1",
        "outputId": "06548a67-d1f4-4429-ec38-c4befc88d232"
      },
      "execution_count": null,
      "outputs": [
        {
          "output_type": "execute_result",
          "data": {
            "text/html": [
              "\n",
              "  <div id=\"df-905665cc-7fa6-4cee-998e-097c78517bf7\">\n",
              "    <div class=\"colab-df-container\">\n",
              "      <div>\n",
              "<style scoped>\n",
              "    .dataframe tbody tr th:only-of-type {\n",
              "        vertical-align: middle;\n",
              "    }\n",
              "\n",
              "    .dataframe tbody tr th {\n",
              "        vertical-align: top;\n",
              "    }\n",
              "\n",
              "    .dataframe thead th {\n",
              "        text-align: right;\n",
              "    }\n",
              "</style>\n",
              "<table border=\"1\" class=\"dataframe\">\n",
              "  <thead>\n",
              "    <tr style=\"text-align: right;\">\n",
              "      <th></th>\n",
              "      <th>index</th>\n",
              "      <th>word</th>\n",
              "    </tr>\n",
              "  </thead>\n",
              "  <tbody>\n",
              "    <tr>\n",
              "      <th>0</th>\n",
              "      <td>0</td>\n",
              "      <td>AALII</td>\n",
              "    </tr>\n",
              "    <tr>\n",
              "      <th>1</th>\n",
              "      <td>1</td>\n",
              "      <td>AARGH</td>\n",
              "    </tr>\n",
              "    <tr>\n",
              "      <th>2</th>\n",
              "      <td>2</td>\n",
              "      <td>AARTI</td>\n",
              "    </tr>\n",
              "    <tr>\n",
              "      <th>3</th>\n",
              "      <td>3</td>\n",
              "      <td>ABACA</td>\n",
              "    </tr>\n",
              "    <tr>\n",
              "      <th>4</th>\n",
              "      <td>4</td>\n",
              "      <td>ABACI</td>\n",
              "    </tr>\n",
              "    <tr>\n",
              "      <th>...</th>\n",
              "      <td>...</td>\n",
              "      <td>...</td>\n",
              "    </tr>\n",
              "    <tr>\n",
              "      <th>11985</th>\n",
              "      <td>1089</td>\n",
              "      <td>UTILE</td>\n",
              "    </tr>\n",
              "    <tr>\n",
              "      <th>11986</th>\n",
              "      <td>1511</td>\n",
              "      <td>UTTER</td>\n",
              "    </tr>\n",
              "    <tr>\n",
              "      <th>11987</th>\n",
              "      <td>9813</td>\n",
              "      <td>UVEAL</td>\n",
              "    </tr>\n",
              "    <tr>\n",
              "      <th>11988</th>\n",
              "      <td>9814</td>\n",
              "      <td>UVEAS</td>\n",
              "    </tr>\n",
              "    <tr>\n",
              "      <th>11989</th>\n",
              "      <td>9815</td>\n",
              "      <td>UVULA</td>\n",
              "    </tr>\n",
              "  </tbody>\n",
              "</table>\n",
              "<p>5557 rows × 2 columns</p>\n",
              "</div>\n",
              "      <button class=\"colab-df-convert\" onclick=\"convertToInteractive('df-905665cc-7fa6-4cee-998e-097c78517bf7')\"\n",
              "              title=\"Convert this dataframe to an interactive table.\"\n",
              "              style=\"display:none;\">\n",
              "        \n",
              "  <svg xmlns=\"http://www.w3.org/2000/svg\" height=\"24px\"viewBox=\"0 0 24 24\"\n",
              "       width=\"24px\">\n",
              "    <path d=\"M0 0h24v24H0V0z\" fill=\"none\"/>\n",
              "    <path d=\"M18.56 5.44l.94 2.06.94-2.06 2.06-.94-2.06-.94-.94-2.06-.94 2.06-2.06.94zm-11 1L8.5 8.5l.94-2.06 2.06-.94-2.06-.94L8.5 2.5l-.94 2.06-2.06.94zm10 10l.94 2.06.94-2.06 2.06-.94-2.06-.94-.94-2.06-.94 2.06-2.06.94z\"/><path d=\"M17.41 7.96l-1.37-1.37c-.4-.4-.92-.59-1.43-.59-.52 0-1.04.2-1.43.59L10.3 9.45l-7.72 7.72c-.78.78-.78 2.05 0 2.83L4 21.41c.39.39.9.59 1.41.59.51 0 1.02-.2 1.41-.59l7.78-7.78 2.81-2.81c.8-.78.8-2.07 0-2.86zM5.41 20L4 18.59l7.72-7.72 1.47 1.35L5.41 20z\"/>\n",
              "  </svg>\n",
              "      </button>\n",
              "      \n",
              "  <style>\n",
              "    .colab-df-container {\n",
              "      display:flex;\n",
              "      flex-wrap:wrap;\n",
              "      gap: 12px;\n",
              "    }\n",
              "\n",
              "    .colab-df-convert {\n",
              "      background-color: #E8F0FE;\n",
              "      border: none;\n",
              "      border-radius: 50%;\n",
              "      cursor: pointer;\n",
              "      display: none;\n",
              "      fill: #1967D2;\n",
              "      height: 32px;\n",
              "      padding: 0 0 0 0;\n",
              "      width: 32px;\n",
              "    }\n",
              "\n",
              "    .colab-df-convert:hover {\n",
              "      background-color: #E2EBFA;\n",
              "      box-shadow: 0px 1px 2px rgba(60, 64, 67, 0.3), 0px 1px 3px 1px rgba(60, 64, 67, 0.15);\n",
              "      fill: #174EA6;\n",
              "    }\n",
              "\n",
              "    [theme=dark] .colab-df-convert {\n",
              "      background-color: #3B4455;\n",
              "      fill: #D2E3FC;\n",
              "    }\n",
              "\n",
              "    [theme=dark] .colab-df-convert:hover {\n",
              "      background-color: #434B5C;\n",
              "      box-shadow: 0px 1px 3px 1px rgba(0, 0, 0, 0.15);\n",
              "      filter: drop-shadow(0px 1px 2px rgba(0, 0, 0, 0.3));\n",
              "      fill: #FFFFFF;\n",
              "    }\n",
              "  </style>\n",
              "\n",
              "      <script>\n",
              "        const buttonEl =\n",
              "          document.querySelector('#df-905665cc-7fa6-4cee-998e-097c78517bf7 button.colab-df-convert');\n",
              "        buttonEl.style.display =\n",
              "          google.colab.kernel.accessAllowed ? 'block' : 'none';\n",
              "\n",
              "        async function convertToInteractive(key) {\n",
              "          const element = document.querySelector('#df-905665cc-7fa6-4cee-998e-097c78517bf7');\n",
              "          const dataTable =\n",
              "            await google.colab.kernel.invokeFunction('convertToInteractive',\n",
              "                                                     [key], {});\n",
              "          if (!dataTable) return;\n",
              "\n",
              "          const docLinkHtml = 'Like what you see? Visit the ' +\n",
              "            '<a target=\"_blank\" href=https://colab.research.google.com/notebooks/data_table.ipynb>data table notebook</a>'\n",
              "            + ' to learn more about interactive tables.';\n",
              "          element.innerHTML = '';\n",
              "          dataTable['output_type'] = 'display_data';\n",
              "          await google.colab.output.renderOutput(dataTable, element);\n",
              "          const docLink = document.createElement('div');\n",
              "          docLink.innerHTML = docLinkHtml;\n",
              "          element.appendChild(docLink);\n",
              "        }\n",
              "      </script>\n",
              "    </div>\n",
              "  </div>\n",
              "  "
            ],
            "text/plain": [
              "       index   word\n",
              "0          0  AALII\n",
              "1          1  AARGH\n",
              "2          2  AARTI\n",
              "3          3  ABACA\n",
              "4          4  ABACI\n",
              "...      ...    ...\n",
              "11985   1089  UTILE\n",
              "11986   1511  UTTER\n",
              "11987   9813  UVEAL\n",
              "11988   9814  UVEAS\n",
              "11989   9815  UVULA\n",
              "\n",
              "[5557 rows x 2 columns]"
            ]
          },
          "metadata": {},
          "execution_count": 14
        }
      ]
    },
    {
      "cell_type": "code",
      "source": [
        "cartesianproduct = toptenwordsonly.merge(toptenwordsonly, how='cross')\n",
        "print(cartesianproduct)"
      ],
      "metadata": {
        "colab": {
          "base_uri": "https://localhost:8080/"
        },
        "id": "sxriTWsmQCMu",
        "outputId": "da5d0609-3eb0-4b1c-9582-0b3266ae4050"
      },
      "execution_count": null,
      "outputs": [
        {
          "output_type": "stream",
          "name": "stdout",
          "text": [
            "          index_x word_x  index_y word_y\n",
            "0               0  AALII        0  AALII\n",
            "1               0  AALII        1  AARGH\n",
            "2               0  AALII        2  AARTI\n",
            "3               0  AALII        3  ABACA\n",
            "4               0  AALII        4  ABACI\n",
            "...           ...    ...      ...    ...\n",
            "30880244     9815  UVULA     1089  UTILE\n",
            "30880245     9815  UVULA     1511  UTTER\n",
            "30880246     9815  UVULA     9813  UVEAL\n",
            "30880247     9815  UVULA     9814  UVEAS\n",
            "30880248     9815  UVULA     9815  UVULA\n",
            "\n",
            "[30880249 rows x 4 columns]\n"
          ]
        }
      ]
    },
    {
      "cell_type": "code",
      "source": [
        "word_xy = cartesianproduct['word_x'] + cartesianproduct['word_y']"
      ],
      "metadata": {
        "id": "PKcGa2tZg8Hy"
      },
      "execution_count": null,
      "outputs": []
    },
    {
      "cell_type": "code",
      "source": [
        "# create top ten & letters string\n",
        "chars = set(toptenletterstring)"
      ],
      "metadata": {
        "id": "tr2PpZaO1IA1"
      },
      "execution_count": null,
      "outputs": []
    },
    {
      "cell_type": "code",
      "source": [
        "char = set(toptenletterstring)\n",
        "besttwowords = word_xy[word_xy.apply(lambda x: set(char).issubset(x))]\n",
        "printvar(besttwowords)"
      ],
      "metadata": {
        "colab": {
          "base_uri": "https://localhost:8080/"
        },
        "id": "gv-owkXI4pP2",
        "outputId": "b648882e-6e10-42e8-857a-dbb2b415113d"
      },
      "execution_count": null,
      "outputs": [
        {
          "output_type": "stream",
          "name": "stdout",
          "text": [
            "==========PRINTVAR============\n",
            "Type: <class 'pandas.core.series.Series'>\n",
            "Length: 600\n",
            "Index: Int64Index([  777884,   777906,  1269047,  1284562,  1285270,  1285567,\n",
            "             1586638,  1586641,  1588066,  1588191,\n",
            "            ...\n",
            "            30779421, 30815093, 30818752, 30848463, 30849965, 30850668,\n",
            "            30850847, 30853025, 30855254, 30856423],\n",
            "           dtype='int64', length=600)\n",
            "Contents: \n",
            "777884      AEROSUNLIT\n",
            "777906      AEROSUNTIL\n",
            "1269047     AIRTSNOULE\n",
            "1284562     AITUSENROL\n",
            "1285270     AITUSLONER\n",
            "               ...    \n",
            "30850668    UTERISLOAN\n",
            "30850847    UTERISOLAN\n",
            "30853025    UTILEARSON\n",
            "30855254    UTILEROANS\n",
            "30856423    UTILESONAR\n",
            "Length: 600, dtype: object\n",
            "==========PRINTVAR============\n"
          ]
        }
      ]
    },
    {
      "cell_type": "code",
      "source": [
        "for index, word in topfiveletterwords.iteritems():\n",
        "  temp_xy = besttwowords[besttwowords.apply(lambda x: x.startswith(word))]\n",
        "  print(word)\n",
        "  print(temp_xy)\n",
        "\n",
        "temp_xy"
      ],
      "metadata": {
        "colab": {
          "base_uri": "https://localhost:8080/"
        },
        "id": "2O4pn6qC16_9",
        "outputId": "d7667051-f0d6-42d9-c39d-3934c81e72db"
      },
      "execution_count": null,
      "outputs": [
        {
          "output_type": "stream",
          "name": "stdout",
          "text": [
            "AEROS\n",
            "777884    AEROSUNLIT\n",
            "777906    AEROSUNTIL\n",
            "dtype: object\n",
            "AROSE\n",
            "3045140    AROSEUNLIT\n",
            "3045162    AROSEUNTIL\n",
            "dtype: object\n",
            "SOARE\n",
            "21727774    SOAREUNLIT\n",
            "21727796    SOAREUNTIL\n",
            "dtype: object\n"
          ]
        },
        {
          "output_type": "execute_result",
          "data": {
            "text/plain": [
              "21727774    SOAREUNLIT\n",
              "21727796    SOAREUNTIL\n",
              "dtype: object"
            ]
          },
          "metadata": {},
          "execution_count": 16
        }
      ]
    },
    {
      "cell_type": "markdown",
      "source": [
        "#MODEL 2\n",
        "## Komal's Version\n",
        "\n",
        "**Objectives:**\n",
        "  \n",
        "  1. Use 'answers' or 'guesses' to find most common prefix and suffix\n",
        "  1. Find all potential 5-letter words \n",
        "  1. Filter out repeats and common letters \n",
        "\n",
        "*note: Uses prior clean and load "
      ],
      "metadata": {
        "id": "gAq66n-xkWEK"
      }
    },
    {
      "cell_type": "code",
      "source": [
        "# KP -- Alternate Approach \n",
        "# Find best Prefix and Suffix \n",
        "# note: you will get different answers if you use answers vs guesses \n",
        "# I think using answers gives a more practical suffix and prefix \n",
        "\n",
        "prefix = {}\n",
        "suffix = {}\n",
        "# find all prefixes & suffixes in answers\n",
        "for i in range((len(answers))): \n",
        "  word = answers.iloc[i,0]\n",
        "  pre = word[0:3]\n",
        "  suf = word[len(word)-3:len(word)]\n",
        "  if pre in prefix.keys():\n",
        "    prefix[pre] = prefix[pre] + 1\n",
        "  else: \n",
        "    prefix[pre] = 1\n",
        "  if suf in suffix.keys():\n",
        "    suffix[suf] = suffix[suf] + 1\n",
        "  else: \n",
        "    suffix[suf] = 1\n"
      ],
      "metadata": {
        "id": "xQR4jmnQw7MJ"
      },
      "execution_count": null,
      "outputs": []
    },
    {
      "cell_type": "code",
      "source": [
        "# sort prefix values \n",
        "prefix = pd.DataFrame(prefix, index=[0])\n",
        "prefix = prefix.transpose()\n",
        "prefix = prefix.sort_values(by=0, ascending=False)\n",
        "best_pre = prefix.index[0]\n",
        "\n",
        "# sort suffix values\n",
        "suffix = pd.DataFrame(suffix, index=[0])\n",
        "suffix = suffix.transpose()\n",
        "suffix = suffix.sort_values(by=0, ascending=False)\n",
        "best_suf = suffix.index[0]"
      ],
      "metadata": {
        "id": "jMGF95EGFu5U"
      },
      "execution_count": null,
      "outputs": []
    },
    {
      "cell_type": "code",
      "source": [
        "# loop through dictionary to find best guess\n",
        "# each word has to either have prefix or suffix and length of 5  \n",
        "first_guess = []\n",
        "second_guess = []\n",
        "for i in range(len(dictionary)): \n",
        "  word = str(dictionary.iloc[i,0])\n",
        "  if word[0:3] == best_pre and len(word) == 5:\n",
        "    first_guess.append(word)\n",
        "  if word[len(word)-3:len(word)] == best_suf and len(word) == 5:\n",
        "    second_guess.append(word)"
      ],
      "metadata": {
        "id": "UnHMfQLHLBVN"
      },
      "execution_count": null,
      "outputs": []
    },
    {
      "cell_type": "code",
      "source": [
        "# first word can't include best suffix (remove those words)\n",
        "for i in range(len(first_guess)-1, -1, -1): \n",
        "  word = first_guess[i]\n",
        "  if 'I' in word: \n",
        "    first_guess.remove(word)\n",
        "  elif 'N' in word: \n",
        "    first_guess.remove(word)\n",
        "  elif 'G' in word:\n",
        "    first_guess.remove(word)\n",
        "  else: \n",
        "    continue\n",
        "  \n",
        "# second guess can't include the best prefix (remove those words)\n",
        "for word in second_guess: \n",
        "  if 'S' in word: \n",
        "    second_guess.remove(word)\n",
        "  elif 'T' in word: \n",
        "    second_guess.remove(word)\n",
        "  elif 'A' in word:\n",
        "    second_guess.remove(word)\n",
        "  else: \n",
        "    continue\n",
        "\n"
      ],
      "metadata": {
        "id": "CUBk7Ep2LG5t"
      },
      "execution_count": null,
      "outputs": []
    },
    {
      "cell_type": "code",
      "source": [
        "# more filtering == words can't include bottom ten letters in distribution\n",
        "for letter in nontoptenletterstring:\n",
        "  for f_word in first_guess: \n",
        "    if letter in f_word: \n",
        "      first_guess.remove(f_word)\n",
        "\n",
        "print(first_guess, second_guess)\n",
        "\n",
        "for letter in nontoptenletterstring:\n",
        "  for s_word in second_guess: \n",
        "    if letter in s_word:\n",
        "        second_guess.remove(s_word)\n",
        "\n",
        "  "
      ],
      "metadata": {
        "id": "CBvY_K8nLevt",
        "colab": {
          "base_uri": "https://localhost:8080/"
        },
        "outputId": "08c99e27-c851-4c1f-a6b9-8bda3c00bd1d"
      },
      "execution_count": null,
      "outputs": [
        {
          "output_type": "stream",
          "name": "stdout",
          "text": [
            "['STALE', 'STARE', 'STARS', 'STATE'] ['BRING', 'LUING', 'POING', 'STING', 'TOING']\n"
          ]
        }
      ]
    },
    {
      "cell_type": "code",
      "source": [
        "# remove words with repeating letters \n",
        "def repeating_letters(guess):\n",
        "  repeat = False\n",
        "  for i in range(len(guess)-1):\n",
        "    for j in range(len(guess)-1,i,-1):\n",
        "      if guess[i] == guess[j]:\n",
        "        repeat = True\n",
        "  return repeat \n",
        "\n",
        "for word in first_guess: \n",
        "  if repeating_letters(word): \n",
        "    first_guess.remove(word)\n",
        "\n",
        "for word in second_guess: \n",
        "  if repeating_letters(word): \n",
        "    second_guess.remove(word)"
      ],
      "metadata": {
        "id": "DDd0PpYmKNc1"
      },
      "execution_count": null,
      "outputs": []
    },
    {
      "cell_type": "code",
      "source": [
        "print('First Guesses: ', first_guess)\n",
        "print('Second Guesses:', second_guess)\n",
        "\n",
        "print('Best Pairs (first guess, second guess):\\n - (STALE, TOING) \\n - (STARE, LUING)')\n"
      ],
      "metadata": {
        "colab": {
          "base_uri": "https://localhost:8080/"
        },
        "id": "dsFVxct4Lva_",
        "outputId": "6a6e6c2c-29b9-4f0d-8413-d93ae2d7110b"
      },
      "execution_count": null,
      "outputs": [
        {
          "output_type": "stream",
          "name": "stdout",
          "text": [
            "First Guesses:  ['STALE', 'STARE']\n",
            "Second Guesses: ['LUING', 'TOING']\n",
            "Best Pairs (first guess, second guess):\n",
            " - (STALE, TOING) \n",
            " - (STARE, LUING)\n"
          ]
        }
      ]
    },
    {
      "cell_type": "markdown",
      "source": [
        ""
      ],
      "metadata": {
        "id": "C4y035J0LAir"
      }
    },
    {
      "cell_type": "markdown",
      "source": [
        ""
      ],
      "metadata": {
        "id": "JBv3OZ0zKzhh"
      }
    },
    {
      "cell_type": "markdown",
      "source": [
        "#ANALYZE"
      ],
      "metadata": {
        "id": "wR2AtPypK5e9"
      }
    },
    {
      "cell_type": "markdown",
      "source": [
        "#PUBLISH"
      ],
      "metadata": {
        "id": "Xy8h7yNUkX3j"
      }
    }
  ]
}